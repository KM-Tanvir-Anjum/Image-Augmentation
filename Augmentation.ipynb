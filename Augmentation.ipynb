import Augmentor
import os

# Use raw strings or double backslashes for Windows paths to avoid Unicode errors
input_directory = r"D:\Research Work\Cattle\Cattle Breed(13.7.24)\S1"
output_directory = r"D:\Research Work\Cattle\Cattle Breed(13.7.24)\AS1"

# Ensure output directory exists
os.makedirs(output_directory, exist_ok=True)

# Create a pipeline for augmentation
pipeline = Augmentor.Pipeline(source_directory=input_directory, output_directory=output_directory)

# Define augmentation techniques
pipeline.rotate(probability=0.7, max_left_rotation=10, max_right_rotation=10)
pipeline.flip_left_right(probability=0.5)
pipeline.zoom_random(probability=0.5, percentage_area=0.8)
pipeline.random_brightness(probability=0.5, min_factor=0.7, max_factor=1.3)
pipeline.random_contrast(probability=0.5, min_factor=0.7, max_factor=1.3)
pipeline.skew(probability=0.3, magnitude=0.5)
pipeline.shear(probability=0.5, max_shear_left=5, max_shear_right=5)

# Number of augmented images to generate
num_of_images_to_generate = 500

# Start augmentation
pipeline.sample(num_of_images_to_generate)

print(f"✅ {num_of_images_to_generate} augmented images saved in: {output_directory}")
