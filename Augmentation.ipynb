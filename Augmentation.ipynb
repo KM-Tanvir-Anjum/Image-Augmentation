{
 "cells": [
  {
   "cell_type": "code",
   "execution_count": 3,
   "id": "a10c3d3b",
   "metadata": {},
   "outputs": [
    {
     "ename": "OSError",
     "evalue": "The source directory you specified does not exist.",
     "output_type": "error",
     "traceback": [
      "\u001b[1;31m---------------------------------------------------------------------------\u001b[0m",
      "\u001b[1;31mOSError\u001b[0m                                   Traceback (most recent call last)",
      "Cell \u001b[1;32mIn[3], line 11\u001b[0m\n\u001b[0;32m      8\u001b[0m os\u001b[38;5;241m.\u001b[39mmakedirs(output_directory, exist_ok\u001b[38;5;241m=\u001b[39m\u001b[38;5;28;01mTrue\u001b[39;00m)\n\u001b[0;32m     10\u001b[0m \u001b[38;5;66;03m# Create a pipeline for augmentation\u001b[39;00m\n\u001b[1;32m---> 11\u001b[0m pipeline \u001b[38;5;241m=\u001b[39m \u001b[43mAugmentor\u001b[49m\u001b[38;5;241;43m.\u001b[39;49m\u001b[43mPipeline\u001b[49m\u001b[43m(\u001b[49m\u001b[43msource_directory\u001b[49m\u001b[38;5;241;43m=\u001b[39;49m\u001b[43minput_directory\u001b[49m\u001b[43m,\u001b[49m\u001b[43m \u001b[49m\u001b[43moutput_directory\u001b[49m\u001b[38;5;241;43m=\u001b[39;49m\u001b[43moutput_directory\u001b[49m\u001b[43m)\u001b[49m\n\u001b[0;32m     13\u001b[0m \u001b[38;5;66;03m# Define augmentation techniques\u001b[39;00m\n\u001b[0;32m     14\u001b[0m pipeline\u001b[38;5;241m.\u001b[39mrotate(probability\u001b[38;5;241m=\u001b[39m\u001b[38;5;241m0.7\u001b[39m, max_left_rotation\u001b[38;5;241m=\u001b[39m\u001b[38;5;241m10\u001b[39m, max_right_rotation\u001b[38;5;241m=\u001b[39m\u001b[38;5;241m10\u001b[39m)\n",
      "File \u001b[1;32m~\\anaconda3\\lib\\site-packages\\Augmentor\\Pipeline.py:87\u001b[0m, in \u001b[0;36mPipeline.__init__\u001b[1;34m(self, source_directory, output_directory, save_format)\u001b[0m\n\u001b[0;32m     84\u001b[0m \u001b[38;5;28mself\u001b[39m\u001b[38;5;241m.\u001b[39mprocess_ground_truth_images \u001b[38;5;241m=\u001b[39m \u001b[38;5;28;01mFalse\u001b[39;00m\n\u001b[0;32m     86\u001b[0m \u001b[38;5;28;01mif\u001b[39;00m source_directory \u001b[38;5;129;01mis\u001b[39;00m \u001b[38;5;129;01mnot\u001b[39;00m \u001b[38;5;28;01mNone\u001b[39;00m:\n\u001b[1;32m---> 87\u001b[0m     \u001b[38;5;28;43mself\u001b[39;49m\u001b[38;5;241;43m.\u001b[39;49m\u001b[43m_populate\u001b[49m\u001b[43m(\u001b[49m\u001b[43msource_directory\u001b[49m\u001b[38;5;241;43m=\u001b[39;49m\u001b[43msource_directory\u001b[49m\u001b[43m,\u001b[49m\n\u001b[0;32m     88\u001b[0m \u001b[43m                   \u001b[49m\u001b[43moutput_directory\u001b[49m\u001b[38;5;241;43m=\u001b[39;49m\u001b[43moutput_directory\u001b[49m\u001b[43m,\u001b[49m\n\u001b[0;32m     89\u001b[0m \u001b[43m                   \u001b[49m\u001b[43mground_truth_directory\u001b[49m\u001b[38;5;241;43m=\u001b[39;49m\u001b[38;5;28;43;01mNone\u001b[39;49;00m\u001b[43m,\u001b[49m\n\u001b[0;32m     90\u001b[0m \u001b[43m                   \u001b[49m\u001b[43mground_truth_output_directory\u001b[49m\u001b[38;5;241;43m=\u001b[39;49m\u001b[43moutput_directory\u001b[49m\u001b[43m)\u001b[49m\n",
      "File \u001b[1;32m~\\anaconda3\\lib\\site-packages\\Augmentor\\Pipeline.py:135\u001b[0m, in \u001b[0;36mPipeline._populate\u001b[1;34m(self, source_directory, output_directory, ground_truth_directory, ground_truth_output_directory)\u001b[0m\n\u001b[0;32m    133\u001b[0m \u001b[38;5;66;03m# Check if the source directory for the original images to augment exists at all\u001b[39;00m\n\u001b[0;32m    134\u001b[0m \u001b[38;5;28;01mif\u001b[39;00m \u001b[38;5;129;01mnot\u001b[39;00m os\u001b[38;5;241m.\u001b[39mpath\u001b[38;5;241m.\u001b[39mexists(source_directory):\n\u001b[1;32m--> 135\u001b[0m     \u001b[38;5;28;01mraise\u001b[39;00m \u001b[38;5;167;01mIOError\u001b[39;00m(\u001b[38;5;124m\"\u001b[39m\u001b[38;5;124mThe source directory you specified does not exist.\u001b[39m\u001b[38;5;124m\"\u001b[39m)\n\u001b[0;32m    137\u001b[0m \u001b[38;5;66;03m# If a ground truth directory is being specified we will check here if the path exists at all.\u001b[39;00m\n\u001b[0;32m    138\u001b[0m \u001b[38;5;28;01mif\u001b[39;00m ground_truth_directory:\n",
      "\u001b[1;31mOSError\u001b[0m: The source directory you specified does not exist."
     ]
    }
   ],
   "source": [
    "import Augmentor\n",
    "import os\n",
    "\n",
    "input_directory = r\"D:\\Chase Track\\InputImages\"  # Folder, not file\n",
    "output_directory = r\"D:\\Chase Track\\Augmented\"\n",
    "\n",
    "# Ensure output directory exists\n",
    "os.makedirs(output_directory, exist_ok=True)\n",
    "\n",
    "# Create a pipeline for augmentation\n",
    "pipeline = Augmentor.Pipeline(source_directory=input_directory, output_directory=output_directory)\n",
    "\n",
    "# Define augmentation techniques\n",
    "pipeline.rotate(probability=0.7, max_left_rotation=10, max_right_rotation=10)\n",
    "pipeline.flip_left_right(probability=0.5)\n",
    "pipeline.zoom_random(probability=0.5, percentage_area=0.8)\n",
    "pipeline.random_brightness(probability=0.5, min_factor=0.7, max_factor=1.3)\n",
    "pipeline.random_contrast(probability=0.5, min_factor=0.7, max_factor=1.3)\n",
    "pipeline.skew(probability=0.3, magnitude=0.5)\n",
    "pipeline.shear(probability=0.5, max_shear_left=5, max_shear_right=5)\n",
    "\n",
    "# Generate augmented images\n",
    "num_of_images_to_generate = 5\n",
    "pipeline.sample(num_of_images_to_generate)\n",
    "\n",
    "print(f\"✅ {num_of_images_to_generate} augmented images saved in: {output_directory}\")\n"
   ]
  },
  {
   "cell_type": "code",
   "execution_count": null,
   "id": "228a313a",
   "metadata": {},
   "outputs": [],
   "source": []
  }
 ],
 "metadata": {
  "kernelspec": {
   "display_name": "Python 3 (ipykernel)",
   "language": "python",
   "name": "python3"
  },
  "language_info": {
   "codemirror_mode": {
    "name": "ipython",
    "version": 3
   },
   "file_extension": ".py",
   "mimetype": "text/x-python",
   "name": "python",
   "nbconvert_exporter": "python",
   "pygments_lexer": "ipython3",
   "version": "3.10.9"
  }
 },
 "nbformat": 4,
 "nbformat_minor": 5
}
